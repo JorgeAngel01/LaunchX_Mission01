{
  "cells": [
    {
      "cell_type": "markdown",
      "metadata": {},
      "source": [
        "# Introducción\n",
        "\n",
        "Incluso el código mejor escrito contendrá errores. Los errores pueden producirse debido a actualizaciones, archivos movidos u otros cambios inesperados. Afortunadamente, Python ofrece una amplia compatibilidad para el seguimiento y el control de errores.\n",
        "\n",
        "## Escenario: Creación de un programa de cohetes\n",
        "\n",
        "Imagina que es un desarrollador que está creando un programa para un cohete. El programa debe leer un archivo de configuración para asegurarse de que se carga la configuración adecuada. La lectura del archivo puede producir un error si falta el archivo o tiene otros problemas. En este módulo, explorarás cómo crear el programa.\n",
        "\n",
        "## ¿Qué descubrirás?\n",
        "Al término de este módulo, sabrás hacer lo siguiente:\n",
        "\n",
        "* Leer y usar la salida de errores de las excepciones\n",
        "Controlar correctamente las excepciones\n",
        "* Generar excepciones con mensajes de error útiles\n",
        "* Usar excepciones para controlar el flujo de un programa\n",
        "\n",
        "## ¿Cuál es el objetivo principal?\n",
        "En este módulo, descubrirás cómo usar la salida de excepción para la depuración, cómo detectar y generar excepciones, y cómo afecta a la lógica de un programa cuando se producen excepciones.\n",
        "\n",
        "---\n",
        "\n",
        "## Uso de tracebacks para buscar errores\n",
        "\n",
        "Las excepciones en Python son una característica principal del lenguaje. Es posible que te sorprenda leer que algo que genera errores se resalta como una característica. Esta sorpresa puede deberse a que las herramientas de software sólidas no parecen bloquearse con un traceback *seguimiento* (varias líneas de texto que indican cómo se inició y finalizó el error).\n",
        "\n",
        "Sin embargo, las excepciones son útiles porque ayudan en la toma de decisiones generando mensajes de error descriptivos. Pueden ayudarte a controlar los problemas esperados e inesperados.\n",
        "\n",
        "## Tracebacks\n",
        "Un traceback es el cuerpo del texto que puede apuntar al origen (y al final) de un error no controlado. Comprender los componentes de un traceback hará que seas más eficaz al corregir errores o depurar un programa que no funciona bien.\n",
        "\n",
        "La primera vez que encuentres excepciones en Python podrías verte tentado/a a evitar el error suprimiéndolo. Cuando un programa sufre un error no controlado, aparece un traceback como salida. Como verás en este módulo, los tracebacks son útiles. Hay maneras de controlar correctamente los errores para que no aparezcan o muestren información útil.\n",
        "\n",
        "Si intentamos en un notebook, abrir un archivo inexistente sucede lo siguiente:"
      ]
    },
    {
      "cell_type": "code",
      "execution_count": 1,
      "metadata": {},
      "outputs": [
        {
          "ename": "FileNotFoundError",
          "evalue": "[Errno 2] No such file or directory: '/path/to/mars.jpg'",
          "output_type": "error",
          "traceback": [
            "\u001b[1;31m---------------------------------------------------------------------------\u001b[0m",
            "\u001b[1;31mFileNotFoundError\u001b[0m                         Traceback (most recent call last)",
            "\u001b[1;32mc:\\Users\\jorge\\Desktop\\LaunchX\\Onboardin\\LaunchX_Mision01\\Módulo 10 - Manejo de errores\\Módulo10Katas.ipynb Cell 2'\u001b[0m in \u001b[0;36m<module>\u001b[1;34m\u001b[0m\n\u001b[1;32m----> <a href='vscode-notebook-cell:/c%3A/Users/jorge/Desktop/LaunchX/Onboardin/LaunchX_Mision01/M%C3%B3dulo%2010%20-%20Manejo%20de%20errores/M%C3%B3dulo10Katas.ipynb#ch0000002?line=0'>1</a>\u001b[0m \u001b[39mopen\u001b[39;49m(\u001b[39m\"\u001b[39;49m\u001b[39m/path/to/mars.jpg\u001b[39;49m\u001b[39m\"\u001b[39;49m)\n",
            "\u001b[1;31mFileNotFoundError\u001b[0m: [Errno 2] No such file or directory: '/path/to/mars.jpg'"
          ]
        }
      ],
      "source": [
        "open(\"/path/to/mars.jpg\")"
      ]
    },
    {
      "cell_type": "markdown",
      "metadata": {},
      "source": [
        "## Controlando las excepciones\n",
        "\n",
        "Cuando encuentres por primera vez excepciones que muestren tracebacks grandes como salida, es posible que te veas tentado/a a detectar todos los errores para evitar que esto suceda.\n",
        "\n",
        "Si estás en una misión a Marte, ¿Qué podrías hacer si un texto del sistema de navegación dice 'Se ha producido un error'? Imagina que no hay ninguna más información ni contexto, simplemente una luz roja parpadeante con el texto del error. Como desarrollador, resulta útil ponerse al otro lado del programa: ¿Qué puede hacer un usuario cuando se produce un error?\n",
        "\n",
        "Aunque en este módulo se explica cómo controlar las excepciones detectándolas, no es necesario detectar las excepciones todo el tiempo. A veces resulta útil permitir que se puedan generar excepciones para que otros autores de llamadas puedan tratar los errores.\n",
        "\n",
        "### Try y Except de los bloques\n",
        "Vamos a usar el ejemplo de navegador a fin de crear código que abra archivos de configuración para la misión de Marte. Los archivos de configuración pueden tener todo tipo de problemas, por lo que es fundamental notificarlos con precisión cuando se presenten. Sabemos que, si no existe un archivo o directorio, se genera `FileNotFoundError`. Si queremos controlar esa excepción, podemos hacerlo con un bloque try y except:\n"
      ]
    },
    {
      "cell_type": "code",
      "execution_count": 2,
      "metadata": {},
      "outputs": [
        {
          "name": "stdout",
          "output_type": "stream",
          "text": [
            "Couldn't find the config.txt file!\n"
          ]
        }
      ],
      "source": [
        "try:\n",
        "    open('config.txt')\n",
        "except FileNotFoundError:\n",
        "    print(\"Couldn't find the config.txt file!\")\n"
      ]
    },
    {
      "cell_type": "markdown",
      "metadata": {},
      "source": [
        "Si necesitas acceder al error asociado a la excepción, debes actualizar la línea except para incluir la palabra clave as. Esta técnica es práctica si una excepción es demasiado genérica y el mensaje de error puede ser útil:"
      ]
    },
    {
      "cell_type": "code",
      "execution_count": 4,
      "metadata": {},
      "outputs": [
        {
          "name": "stdout",
          "output_type": "stream",
          "text": [
            "got a problem trying to read the file: [Errno 2] No such file or directory: 'mars.jpg'\n"
          ]
        }
      ],
      "source": [
        "try:\n",
        "    open(\"mars.jpg\")\n",
        "except FileNotFoundError as err:\n",
        "    print(\"got a problem trying to read the file:\", err)"
      ]
    },
    {
      "cell_type": "markdown",
      "metadata": {},
      "source": [
        "## Generación de excepciones\n",
        "Ahora que tienes una buena comprensión de los tracebacks y el control de excepciones, vamos a revisar la generación de excepciones.\n",
        "\n",
        "Es posible que ya conozcas una situación que podría provocar una condición de error al escribir código. En estas situaciones, resulta útil generar excepciones que permitan que otro código comprenda cuál es el problema.\n",
        "\n",
        "La generación de excepciones también puede ayudar en la toma de decisiones para otro código. Como hemos visto antes, en función del error, el código puede tomar decisiones inteligentes para resolver, solucionar o ignorar un problema.\n",
        "\n",
        "Los astronautas limitan su uso de agua a unos 11 litros al día. Vamos a crear una función que, con base al número de astronautas, pueda calcular la cantidad de agua quedará después de un día o más:"
      ]
    },
    {
      "cell_type": "code",
      "execution_count": 5,
      "metadata": {},
      "outputs": [],
      "source": [
        "def water_left(astronauts, water_left, days_left):\n",
        "    daily_usage = astronauts * 11\n",
        "    total_usage = daily_usage * days_left\n",
        "    total_water_left = water_left - total_usage\n",
        "    return f\"Total water left after {days_left} days is: {total_water_left} liters\""
      ]
    },
    {
      "cell_type": "markdown",
      "metadata": {},
      "source": [
        "PruProbemos con cinco astronautas, 100 litros de agua sobrante y dos días:"
      ]
    },
    {
      "cell_type": "code",
      "execution_count": 6,
      "metadata": {},
      "outputs": [
        {
          "data": {
            "text/plain": [
              "'Total water left after 2 days is: -10 liters'"
            ]
          },
          "execution_count": 6,
          "metadata": {},
          "output_type": "execute_result"
        }
      ],
      "source": [
        "water_left(5, 100, 2)"
      ]
    },
    {
      "cell_type": "markdown",
      "metadata": {},
      "source": [
        "Esto no es muy útil, ya que una carencia en los litros sería un error. Después, el sistema de navegación podría alertar a los astronautas que no habrá suficiente agua para todos en dos días. Si eres un ingeniero(a) que programa el sistema de navegación, podrías generar una excepción en la función water_left() para alertar de la condición de error:"
      ]
    },
    {
      "cell_type": "code",
      "execution_count": 7,
      "metadata": {},
      "outputs": [],
      "source": [
        "def water_left(astronauts, water_left, days_left):\n",
        "    daily_usage = astronauts * 11\n",
        "    total_usage = daily_usage * days_left\n",
        "    total_water_left = water_left - total_usage\n",
        "    if total_water_left < 0:\n",
        "        raise RuntimeError(f\"There is not enough water for {astronauts} astronauts after {days_left} days!\")\n",
        "    return f\"Total water left after {days_left} days is: {total_water_left} liters\""
      ]
    },
    {
      "cell_type": "markdown",
      "metadata": {},
      "source": [
        "Ahora volvemos a ejecutarlo"
      ]
    },
    {
      "cell_type": "code",
      "execution_count": 8,
      "metadata": {},
      "outputs": [
        {
          "ename": "RuntimeError",
          "evalue": "There is not enough water for 5 astronauts after 2 days!",
          "output_type": "error",
          "traceback": [
            "\u001b[1;31m---------------------------------------------------------------------------\u001b[0m",
            "\u001b[1;31mRuntimeError\u001b[0m                              Traceback (most recent call last)",
            "\u001b[1;32mc:\\Users\\jorge\\Desktop\\LaunchX\\Onboardin\\LaunchX_Mision01\\Módulo 10 - Manejo de errores\\Módulo10Katas.ipynb Cell 14'\u001b[0m in \u001b[0;36m<module>\u001b[1;34m\u001b[0m\n\u001b[1;32m----> <a href='vscode-notebook-cell:/c%3A/Users/jorge/Desktop/LaunchX/Onboardin/LaunchX_Mision01/M%C3%B3dulo%2010%20-%20Manejo%20de%20errores/M%C3%B3dulo10Katas.ipynb#ch0000015?line=0'>1</a>\u001b[0m water_left(\u001b[39m5\u001b[39;49m, \u001b[39m100\u001b[39;49m, \u001b[39m2\u001b[39;49m)\n",
            "\u001b[1;32mc:\\Users\\jorge\\Desktop\\LaunchX\\Onboardin\\LaunchX_Mision01\\Módulo 10 - Manejo de errores\\Módulo10Katas.ipynb Cell 12'\u001b[0m in \u001b[0;36mwater_left\u001b[1;34m(astronauts, water_left, days_left)\u001b[0m\n\u001b[0;32m      <a href='vscode-notebook-cell:/c%3A/Users/jorge/Desktop/LaunchX/Onboardin/LaunchX_Mision01/M%C3%B3dulo%2010%20-%20Manejo%20de%20errores/M%C3%B3dulo10Katas.ipynb#ch0000013?line=3'>4</a>\u001b[0m total_water_left \u001b[39m=\u001b[39m water_left \u001b[39m-\u001b[39m total_usage\n\u001b[0;32m      <a href='vscode-notebook-cell:/c%3A/Users/jorge/Desktop/LaunchX/Onboardin/LaunchX_Mision01/M%C3%B3dulo%2010%20-%20Manejo%20de%20errores/M%C3%B3dulo10Katas.ipynb#ch0000013?line=4'>5</a>\u001b[0m \u001b[39mif\u001b[39;00m total_water_left \u001b[39m<\u001b[39m \u001b[39m0\u001b[39m:\n\u001b[1;32m----> <a href='vscode-notebook-cell:/c%3A/Users/jorge/Desktop/LaunchX/Onboardin/LaunchX_Mision01/M%C3%B3dulo%2010%20-%20Manejo%20de%20errores/M%C3%B3dulo10Katas.ipynb#ch0000013?line=5'>6</a>\u001b[0m     \u001b[39mraise\u001b[39;00m \u001b[39mRuntimeError\u001b[39;00m(\u001b[39mf\u001b[39m\u001b[39m\"\u001b[39m\u001b[39mThere is not enough water for \u001b[39m\u001b[39m{\u001b[39;00mastronauts\u001b[39m}\u001b[39;00m\u001b[39m astronauts after \u001b[39m\u001b[39m{\u001b[39;00mdays_left\u001b[39m}\u001b[39;00m\u001b[39m days!\u001b[39m\u001b[39m\"\u001b[39m)\n\u001b[0;32m      <a href='vscode-notebook-cell:/c%3A/Users/jorge/Desktop/LaunchX/Onboardin/LaunchX_Mision01/M%C3%B3dulo%2010%20-%20Manejo%20de%20errores/M%C3%B3dulo10Katas.ipynb#ch0000013?line=6'>7</a>\u001b[0m \u001b[39mreturn\u001b[39;00m \u001b[39mf\u001b[39m\u001b[39m\"\u001b[39m\u001b[39mTotal water left after \u001b[39m\u001b[39m{\u001b[39;00mdays_left\u001b[39m}\u001b[39;00m\u001b[39m days is: \u001b[39m\u001b[39m{\u001b[39;00mtotal_water_left\u001b[39m}\u001b[39;00m\u001b[39m liters\u001b[39m\u001b[39m\"\u001b[39m\n",
            "\u001b[1;31mRuntimeError\u001b[0m: There is not enough water for 5 astronauts after 2 days!"
          ]
        }
      ],
      "source": [
        "water_left(5, 100, 2)"
      ]
    },
    {
      "cell_type": "markdown",
      "metadata": {},
      "source": [
        "En el sistema de navegación, el código para señalar la alerta ahora puede usar RuntimeError para generar la alerta:"
      ]
    },
    {
      "cell_type": "code",
      "execution_count": 9,
      "metadata": {},
      "outputs": [
        {
          "ename": "NameError",
          "evalue": "name 'alert_navigation_system' is not defined",
          "output_type": "error",
          "traceback": [
            "\u001b[1;31m---------------------------------------------------------------------------\u001b[0m",
            "\u001b[1;31mRuntimeError\u001b[0m                              Traceback (most recent call last)",
            "\u001b[1;32mc:\\Users\\jorge\\Desktop\\LaunchX\\Onboardin\\LaunchX_Mision01\\Módulo 10 - Manejo de errores\\Módulo10Katas.ipynb Cell 15'\u001b[0m in \u001b[0;36m<module>\u001b[1;34m\u001b[0m\n\u001b[0;32m      <a href='vscode-notebook-cell:/c%3A/Users/jorge/Desktop/LaunchX/Onboardin/LaunchX_Mision01/M%C3%B3dulo%2010%20-%20Manejo%20de%20errores/M%C3%B3dulo10Katas.ipynb#ch0000016?line=0'>1</a>\u001b[0m \u001b[39mtry\u001b[39;00m:\n\u001b[1;32m----> <a href='vscode-notebook-cell:/c%3A/Users/jorge/Desktop/LaunchX/Onboardin/LaunchX_Mision01/M%C3%B3dulo%2010%20-%20Manejo%20de%20errores/M%C3%B3dulo10Katas.ipynb#ch0000016?line=1'>2</a>\u001b[0m     water_left(\u001b[39m5\u001b[39;49m, \u001b[39m100\u001b[39;49m, \u001b[39m2\u001b[39;49m)\n\u001b[0;32m      <a href='vscode-notebook-cell:/c%3A/Users/jorge/Desktop/LaunchX/Onboardin/LaunchX_Mision01/M%C3%B3dulo%2010%20-%20Manejo%20de%20errores/M%C3%B3dulo10Katas.ipynb#ch0000016?line=2'>3</a>\u001b[0m \u001b[39mexcept\u001b[39;00m \u001b[39mRuntimeError\u001b[39;00m \u001b[39mas\u001b[39;00m err:\n",
            "\u001b[1;32mc:\\Users\\jorge\\Desktop\\LaunchX\\Onboardin\\LaunchX_Mision01\\Módulo 10 - Manejo de errores\\Módulo10Katas.ipynb Cell 12'\u001b[0m in \u001b[0;36mwater_left\u001b[1;34m(astronauts, water_left, days_left)\u001b[0m\n\u001b[0;32m      <a href='vscode-notebook-cell:/c%3A/Users/jorge/Desktop/LaunchX/Onboardin/LaunchX_Mision01/M%C3%B3dulo%2010%20-%20Manejo%20de%20errores/M%C3%B3dulo10Katas.ipynb#ch0000013?line=4'>5</a>\u001b[0m \u001b[39mif\u001b[39;00m total_water_left \u001b[39m<\u001b[39m \u001b[39m0\u001b[39m:\n\u001b[1;32m----> <a href='vscode-notebook-cell:/c%3A/Users/jorge/Desktop/LaunchX/Onboardin/LaunchX_Mision01/M%C3%B3dulo%2010%20-%20Manejo%20de%20errores/M%C3%B3dulo10Katas.ipynb#ch0000013?line=5'>6</a>\u001b[0m     \u001b[39mraise\u001b[39;00m \u001b[39mRuntimeError\u001b[39;00m(\u001b[39mf\u001b[39m\u001b[39m\"\u001b[39m\u001b[39mThere is not enough water for \u001b[39m\u001b[39m{\u001b[39;00mastronauts\u001b[39m}\u001b[39;00m\u001b[39m astronauts after \u001b[39m\u001b[39m{\u001b[39;00mdays_left\u001b[39m}\u001b[39;00m\u001b[39m days!\u001b[39m\u001b[39m\"\u001b[39m)\n\u001b[0;32m      <a href='vscode-notebook-cell:/c%3A/Users/jorge/Desktop/LaunchX/Onboardin/LaunchX_Mision01/M%C3%B3dulo%2010%20-%20Manejo%20de%20errores/M%C3%B3dulo10Katas.ipynb#ch0000013?line=6'>7</a>\u001b[0m \u001b[39mreturn\u001b[39;00m \u001b[39mf\u001b[39m\u001b[39m\"\u001b[39m\u001b[39mTotal water left after \u001b[39m\u001b[39m{\u001b[39;00mdays_left\u001b[39m}\u001b[39;00m\u001b[39m days is: \u001b[39m\u001b[39m{\u001b[39;00mtotal_water_left\u001b[39m}\u001b[39;00m\u001b[39m liters\u001b[39m\u001b[39m\"\u001b[39m\n",
            "\u001b[1;31mRuntimeError\u001b[0m: There is not enough water for 5 astronauts after 2 days!",
            "\nDuring handling of the above exception, another exception occurred:\n",
            "\u001b[1;31mNameError\u001b[0m                                 Traceback (most recent call last)",
            "\u001b[1;32mc:\\Users\\jorge\\Desktop\\LaunchX\\Onboardin\\LaunchX_Mision01\\Módulo 10 - Manejo de errores\\Módulo10Katas.ipynb Cell 15'\u001b[0m in \u001b[0;36m<module>\u001b[1;34m\u001b[0m\n\u001b[0;32m      <a href='vscode-notebook-cell:/c%3A/Users/jorge/Desktop/LaunchX/Onboardin/LaunchX_Mision01/M%C3%B3dulo%2010%20-%20Manejo%20de%20errores/M%C3%B3dulo10Katas.ipynb#ch0000016?line=1'>2</a>\u001b[0m     water_left(\u001b[39m5\u001b[39m, \u001b[39m100\u001b[39m, \u001b[39m2\u001b[39m)\n\u001b[0;32m      <a href='vscode-notebook-cell:/c%3A/Users/jorge/Desktop/LaunchX/Onboardin/LaunchX_Mision01/M%C3%B3dulo%2010%20-%20Manejo%20de%20errores/M%C3%B3dulo10Katas.ipynb#ch0000016?line=2'>3</a>\u001b[0m \u001b[39mexcept\u001b[39;00m \u001b[39mRuntimeError\u001b[39;00m \u001b[39mas\u001b[39;00m err:\n\u001b[1;32m----> <a href='vscode-notebook-cell:/c%3A/Users/jorge/Desktop/LaunchX/Onboardin/LaunchX_Mision01/M%C3%B3dulo%2010%20-%20Manejo%20de%20errores/M%C3%B3dulo10Katas.ipynb#ch0000016?line=3'>4</a>\u001b[0m     alert_navigation_system(err)\n",
            "\u001b[1;31mNameError\u001b[0m: name 'alert_navigation_system' is not defined"
          ]
        }
      ],
      "source": [
        "try:\n",
        "    water_left(5, 100, 2)\n",
        "except RuntimeError as err:\n",
        "    alert_navigation_system(err)"
      ]
    },
    {
      "cell_type": "markdown",
      "metadata": {},
      "source": [
        "La función water_left() también se puede actualizar para evitar el paso de tipos no admitidos. Intentenis pasar argumentos que no sean enteros para comprobar la salida de error:"
      ]
    },
    {
      "cell_type": "code",
      "execution_count": 10,
      "metadata": {},
      "outputs": [
        {
          "ename": "TypeError",
          "evalue": "can't multiply sequence by non-int of type 'NoneType'",
          "output_type": "error",
          "traceback": [
            "\u001b[1;31m---------------------------------------------------------------------------\u001b[0m",
            "\u001b[1;31mTypeError\u001b[0m                                 Traceback (most recent call last)",
            "\u001b[1;32mc:\\Users\\jorge\\Desktop\\LaunchX\\Onboardin\\LaunchX_Mision01\\Módulo 10 - Manejo de errores\\Módulo10Katas.ipynb Cell 16'\u001b[0m in \u001b[0;36m<module>\u001b[1;34m\u001b[0m\n\u001b[1;32m----> <a href='vscode-notebook-cell:/c%3A/Users/jorge/Desktop/LaunchX/Onboardin/LaunchX_Mision01/M%C3%B3dulo%2010%20-%20Manejo%20de%20errores/M%C3%B3dulo10Katas.ipynb#ch0000017?line=0'>1</a>\u001b[0m water_left(\u001b[39m\"\u001b[39;49m\u001b[39m3\u001b[39;49m\u001b[39m\"\u001b[39;49m, \u001b[39m\"\u001b[39;49m\u001b[39m200\u001b[39;49m\u001b[39m\"\u001b[39;49m, \u001b[39mNone\u001b[39;49;00m)\n",
            "\u001b[1;32mc:\\Users\\jorge\\Desktop\\LaunchX\\Onboardin\\LaunchX_Mision01\\Módulo 10 - Manejo de errores\\Módulo10Katas.ipynb Cell 12'\u001b[0m in \u001b[0;36mwater_left\u001b[1;34m(astronauts, water_left, days_left)\u001b[0m\n\u001b[0;32m      <a href='vscode-notebook-cell:/c%3A/Users/jorge/Desktop/LaunchX/Onboardin/LaunchX_Mision01/M%C3%B3dulo%2010%20-%20Manejo%20de%20errores/M%C3%B3dulo10Katas.ipynb#ch0000013?line=0'>1</a>\u001b[0m \u001b[39mdef\u001b[39;00m \u001b[39mwater_left\u001b[39m(astronauts, water_left, days_left):\n\u001b[0;32m      <a href='vscode-notebook-cell:/c%3A/Users/jorge/Desktop/LaunchX/Onboardin/LaunchX_Mision01/M%C3%B3dulo%2010%20-%20Manejo%20de%20errores/M%C3%B3dulo10Katas.ipynb#ch0000013?line=1'>2</a>\u001b[0m     daily_usage \u001b[39m=\u001b[39m astronauts \u001b[39m*\u001b[39m \u001b[39m11\u001b[39m\n\u001b[1;32m----> <a href='vscode-notebook-cell:/c%3A/Users/jorge/Desktop/LaunchX/Onboardin/LaunchX_Mision01/M%C3%B3dulo%2010%20-%20Manejo%20de%20errores/M%C3%B3dulo10Katas.ipynb#ch0000013?line=2'>3</a>\u001b[0m     total_usage \u001b[39m=\u001b[39m daily_usage \u001b[39m*\u001b[39;49m days_left\n\u001b[0;32m      <a href='vscode-notebook-cell:/c%3A/Users/jorge/Desktop/LaunchX/Onboardin/LaunchX_Mision01/M%C3%B3dulo%2010%20-%20Manejo%20de%20errores/M%C3%B3dulo10Katas.ipynb#ch0000013?line=3'>4</a>\u001b[0m     total_water_left \u001b[39m=\u001b[39m water_left \u001b[39m-\u001b[39m total_usage\n\u001b[0;32m      <a href='vscode-notebook-cell:/c%3A/Users/jorge/Desktop/LaunchX/Onboardin/LaunchX_Mision01/M%C3%B3dulo%2010%20-%20Manejo%20de%20errores/M%C3%B3dulo10Katas.ipynb#ch0000013?line=4'>5</a>\u001b[0m     \u001b[39mif\u001b[39;00m total_water_left \u001b[39m<\u001b[39m \u001b[39m0\u001b[39m:\n",
            "\u001b[1;31mTypeError\u001b[0m: can't multiply sequence by non-int of type 'NoneType'"
          ]
        }
      ],
      "source": [
        "water_left(\"3\", \"200\", None)"
      ]
    },
    {
      "cell_type": "markdown",
      "metadata": {},
      "source": [
        "El error de TypeError no es muy descriptivo en el contexto de lo que espera la función. Actualizaremos la función para que use TypeError, pero con un mensaje mejor:"
      ]
    },
    {
      "cell_type": "code",
      "execution_count": 11,
      "metadata": {},
      "outputs": [],
      "source": [
        "def water_left(astronauts, water_left, days_left):\n",
        "    for argument in [astronauts, water_left, days_left]:\n",
        "        try:\n",
        "            # If argument is an int, the following operation will work\n",
        "            argument / 10\n",
        "        except TypeError:\n",
        "            # TypError will be raised only if it isn't the right type \n",
        "            # Raise the same exception but with a better error message\n",
        "            raise TypeError(f\"All arguments must be of type int, but received: '{argument}'\")\n",
        "    daily_usage = astronauts * 11\n",
        "    total_usage = daily_usage * days_left\n",
        "    total_water_left = water_left - total_usage\n",
        "    if total_water_left < 0:\n",
        "        raise RuntimeError(f\"There is not enough water for {astronauts} astronauts after {days_left} days!\")\n",
        "    return f\"Total water left after {days_left} days is: {total_water_left} liters\""
      ]
    },
    {
      "cell_type": "code",
      "execution_count": 12,
      "metadata": {},
      "outputs": [
        {
          "ename": "TypeError",
          "evalue": "All arguments must be of type int, but received: '3'",
          "output_type": "error",
          "traceback": [
            "\u001b[1;31m---------------------------------------------------------------------------\u001b[0m",
            "\u001b[1;31mTypeError\u001b[0m                                 Traceback (most recent call last)",
            "\u001b[1;32mc:\\Users\\jorge\\Desktop\\LaunchX\\Onboardin\\LaunchX_Mision01\\Módulo 10 - Manejo de errores\\Módulo10Katas.ipynb Cell 20'\u001b[0m in \u001b[0;36mwater_left\u001b[1;34m(astronauts, water_left, days_left)\u001b[0m\n\u001b[0;32m      <a href='vscode-notebook-cell:/c%3A/Users/jorge/Desktop/LaunchX/Onboardin/LaunchX_Mision01/M%C3%B3dulo%2010%20-%20Manejo%20de%20errores/M%C3%B3dulo10Katas.ipynb#ch0000021?line=2'>3</a>\u001b[0m \u001b[39mtry\u001b[39;00m:\n\u001b[0;32m      <a href='vscode-notebook-cell:/c%3A/Users/jorge/Desktop/LaunchX/Onboardin/LaunchX_Mision01/M%C3%B3dulo%2010%20-%20Manejo%20de%20errores/M%C3%B3dulo10Katas.ipynb#ch0000021?line=3'>4</a>\u001b[0m     \u001b[39m# If argument is an int, the following operation will work\u001b[39;00m\n\u001b[1;32m----> <a href='vscode-notebook-cell:/c%3A/Users/jorge/Desktop/LaunchX/Onboardin/LaunchX_Mision01/M%C3%B3dulo%2010%20-%20Manejo%20de%20errores/M%C3%B3dulo10Katas.ipynb#ch0000021?line=4'>5</a>\u001b[0m     argument \u001b[39m/\u001b[39;49m \u001b[39m10\u001b[39;49m\n\u001b[0;32m      <a href='vscode-notebook-cell:/c%3A/Users/jorge/Desktop/LaunchX/Onboardin/LaunchX_Mision01/M%C3%B3dulo%2010%20-%20Manejo%20de%20errores/M%C3%B3dulo10Katas.ipynb#ch0000021?line=5'>6</a>\u001b[0m \u001b[39mexcept\u001b[39;00m \u001b[39mTypeError\u001b[39;00m:\n\u001b[0;32m      <a href='vscode-notebook-cell:/c%3A/Users/jorge/Desktop/LaunchX/Onboardin/LaunchX_Mision01/M%C3%B3dulo%2010%20-%20Manejo%20de%20errores/M%C3%B3dulo10Katas.ipynb#ch0000021?line=6'>7</a>\u001b[0m     \u001b[39m# TypError will be raised only if it isn't the right type \u001b[39;00m\n\u001b[0;32m      <a href='vscode-notebook-cell:/c%3A/Users/jorge/Desktop/LaunchX/Onboardin/LaunchX_Mision01/M%C3%B3dulo%2010%20-%20Manejo%20de%20errores/M%C3%B3dulo10Katas.ipynb#ch0000021?line=7'>8</a>\u001b[0m     \u001b[39m# Raise the same exception but with a better error message\u001b[39;00m\n",
            "\u001b[1;31mTypeError\u001b[0m: unsupported operand type(s) for /: 'str' and 'int'",
            "\nDuring handling of the above exception, another exception occurred:\n",
            "\u001b[1;31mTypeError\u001b[0m                                 Traceback (most recent call last)",
            "\u001b[1;32mc:\\Users\\jorge\\Desktop\\LaunchX\\Onboardin\\LaunchX_Mision01\\Módulo 10 - Manejo de errores\\Módulo10Katas.ipynb Cell 21'\u001b[0m in \u001b[0;36m<module>\u001b[1;34m\u001b[0m\n\u001b[1;32m----> <a href='vscode-notebook-cell:/c%3A/Users/jorge/Desktop/LaunchX/Onboardin/LaunchX_Mision01/M%C3%B3dulo%2010%20-%20Manejo%20de%20errores/M%C3%B3dulo10Katas.ipynb#ch0000022?line=0'>1</a>\u001b[0m water_left(\u001b[39m\"\u001b[39;49m\u001b[39m3\u001b[39;49m\u001b[39m\"\u001b[39;49m, \u001b[39m\"\u001b[39;49m\u001b[39m200\u001b[39;49m\u001b[39m\"\u001b[39;49m, \u001b[39mNone\u001b[39;49;00m)\n",
            "\u001b[1;32mc:\\Users\\jorge\\Desktop\\LaunchX\\Onboardin\\LaunchX_Mision01\\Módulo 10 - Manejo de errores\\Módulo10Katas.ipynb Cell 20'\u001b[0m in \u001b[0;36mwater_left\u001b[1;34m(astronauts, water_left, days_left)\u001b[0m\n\u001b[0;32m      <a href='vscode-notebook-cell:/c%3A/Users/jorge/Desktop/LaunchX/Onboardin/LaunchX_Mision01/M%C3%B3dulo%2010%20-%20Manejo%20de%20errores/M%C3%B3dulo10Katas.ipynb#ch0000021?line=4'>5</a>\u001b[0m         argument \u001b[39m/\u001b[39m \u001b[39m10\u001b[39m\n\u001b[0;32m      <a href='vscode-notebook-cell:/c%3A/Users/jorge/Desktop/LaunchX/Onboardin/LaunchX_Mision01/M%C3%B3dulo%2010%20-%20Manejo%20de%20errores/M%C3%B3dulo10Katas.ipynb#ch0000021?line=5'>6</a>\u001b[0m     \u001b[39mexcept\u001b[39;00m \u001b[39mTypeError\u001b[39;00m:\n\u001b[0;32m      <a href='vscode-notebook-cell:/c%3A/Users/jorge/Desktop/LaunchX/Onboardin/LaunchX_Mision01/M%C3%B3dulo%2010%20-%20Manejo%20de%20errores/M%C3%B3dulo10Katas.ipynb#ch0000021?line=6'>7</a>\u001b[0m         \u001b[39m# TypError will be raised only if it isn't the right type \u001b[39;00m\n\u001b[0;32m      <a href='vscode-notebook-cell:/c%3A/Users/jorge/Desktop/LaunchX/Onboardin/LaunchX_Mision01/M%C3%B3dulo%2010%20-%20Manejo%20de%20errores/M%C3%B3dulo10Katas.ipynb#ch0000021?line=7'>8</a>\u001b[0m         \u001b[39m# Raise the same exception but with a better error message\u001b[39;00m\n\u001b[1;32m----> <a href='vscode-notebook-cell:/c%3A/Users/jorge/Desktop/LaunchX/Onboardin/LaunchX_Mision01/M%C3%B3dulo%2010%20-%20Manejo%20de%20errores/M%C3%B3dulo10Katas.ipynb#ch0000021?line=8'>9</a>\u001b[0m         \u001b[39mraise\u001b[39;00m \u001b[39mTypeError\u001b[39;00m(\u001b[39mf\u001b[39m\u001b[39m\"\u001b[39m\u001b[39mAll arguments must be of type int, but received: \u001b[39m\u001b[39m'\u001b[39m\u001b[39m{\u001b[39;00margument\u001b[39m}\u001b[39;00m\u001b[39m'\u001b[39m\u001b[39m\"\u001b[39m)\n\u001b[0;32m     <a href='vscode-notebook-cell:/c%3A/Users/jorge/Desktop/LaunchX/Onboardin/LaunchX_Mision01/M%C3%B3dulo%2010%20-%20Manejo%20de%20errores/M%C3%B3dulo10Katas.ipynb#ch0000021?line=9'>10</a>\u001b[0m daily_usage \u001b[39m=\u001b[39m astronauts \u001b[39m*\u001b[39m \u001b[39m11\u001b[39m\n\u001b[0;32m     <a href='vscode-notebook-cell:/c%3A/Users/jorge/Desktop/LaunchX/Onboardin/LaunchX_Mision01/M%C3%B3dulo%2010%20-%20Manejo%20de%20errores/M%C3%B3dulo10Katas.ipynb#ch0000021?line=10'>11</a>\u001b[0m total_usage \u001b[39m=\u001b[39m daily_usage \u001b[39m*\u001b[39m days_left\n",
            "\u001b[1;31mTypeError\u001b[0m: All arguments must be of type int, but received: '3'"
          ]
        }
      ],
      "source": [
        "water_left(\"3\", \"200\", None)"
      ]
    }
  ],
  "metadata": {
    "interpreter": {
      "hash": "205095b8b86ea82a021a8fc2ffba2b3bc9f8d0be25999901963b225939f75778"
    },
    "kernelspec": {
      "display_name": "Python 3.8.10 64-bit ('tmp': conda)",
      "name": "python3"
    },
    "language_info": {
      "codemirror_mode": {
        "name": "ipython",
        "version": 3
      },
      "file_extension": ".py",
      "mimetype": "text/x-python",
      "name": "python",
      "nbconvert_exporter": "python",
      "pygments_lexer": "ipython3",
      "version": "3.10.2"
    },
    "nteract": {
      "version": "nteract-front-end@1.0.0"
    },
    "orig_nbformat": 4
  },
  "nbformat": 4,
  "nbformat_minor": 2
}
